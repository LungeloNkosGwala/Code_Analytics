{
 "cells": [
  {
   "cell_type": "markdown",
   "id": "8bf8e1ef-02ff-4707-be6e-890be9c3aeb0",
   "metadata": {
    "tags": []
   },
   "source": [
    "<h1><span style = \"color:red\">MySQL File Upload</span></h1>\n",
    "<div class = \"alert alert-block alert-info\" style = \"margin-top:20-px\">"
   ]
  },
  {
   "cell_type": "markdown",
   "id": "3f5405db-aaec-4b1c-8b76-33d82b61f886",
   "metadata": {},
   "source": [
    "This script loads two xlsx file where information on will used extract information from another file and concated to produce different files. Based on certain conditions from the uploaded files, certain information is queried from the database to validate the information. If certain conditions are meet, say for example new information, that information is loaded into the database for future reference and validation."
   ]
  },
  {
   "cell_type": "code",
   "execution_count": null,
   "id": "da468861-7070-49fb-b6f6-95ec5b0c6876",
   "metadata": {},
   "outputs": [],
   "source": [
    "import pandas as pd\n",
    "import numpy as np\n",
    "from datetime import datetime\n",
    "pd.options.mode.chained_assignment = None\n",
    "import mysql.connector\n",
    "\n",
    "\n",
    "df = pd.read_excel(\"Type_of_upload.xlsx\")\n",
    "Upl = pd.read_excel(\"Upload.xlsx\", dtype=object)\n",
    "\n",
    "ASN = Upl[Upl['Code']==\"ASN\"]\n",
    "Upl = Upl[Upl['Code']!=\"ASN\"]\n",
    "\n",
    "def check(ASN,Upl):   \n",
    "    if not list(ASN['Code']):\n",
    "        return Upl\n",
    "    else:\n",
    "        connection = mysql.connector.connect(host='localhost', user='root',password = '1234@1', database = 'flonet')\n",
    "        my_data = pd.read_sql(\"SELECT productcode FROM pfep\",connection)\n",
    "        connection.close()\n",
    "        No_PFEP = ASN[~ASN['ProductCode'].isin(my_data['productcode'])]\n",
    "        Upl = pd.concat([Upl, No_PFEP])\n",
    "        \n",
    "    return Upl\n",
    "Upl = check(ASN,Upl)\n",
    "Upl.reset_index(inplace = True, drop = True)\n",
    "\n",
    "#PFEP Setting\n",
    "#PFEP Setting\n",
    "c = []\n",
    "for i in Upl['Code']:\n",
    "    a = df[df['Code'] ==i]\n",
    "    c.append(a)\n",
    "PFEP = pd.concat(c)\n",
    "PFEP.reset_index(drop=True,inplace = True)\n",
    "\n",
    "PFEP['ProductCode'].fillna(Upl['ProductCode'],inplace = True)\n",
    "\n",
    "PFEP.drop(columns =['Code'], inplace = True)\n",
    "PFEP['ProductCode']= PFEP['ProductCode'].astype(object)\n",
    "\n",
    "#StorageUnitType Setting\n",
    "StorageUnitType = PFEP[['ProductCode','PutAwaySUT']]\n",
    "StorageUnitType.set_axis(['ProductCode', 'StorageUnitTypeCode'], axis=1, inplace=True)\n",
    "\n",
    "#MovementType\n",
    "MovementType =PFEP[['ProductCode']]\n",
    "for i in MovementType:\n",
    "    MovementType['MovementCode'] = \"A\"\n",
    "\n",
    "Update = PFEP[PFEP['ProductCode'].isin(ASN['ProductCode'])]\n",
    "\n",
    "def update_pfep(Update):\n",
    "    if not list(Update['ProductCode']):\n",
    "        print(\"No Database Update\")\n",
    "    else:\n",
    "        Update = Update.astype(object).where(pd.notnull(Update), None)\n",
    "        connection = mysql.connector.connect(host='localhost', user='root',password = '1234@1', database = 'flonet')\n",
    "        cursor = connection.cursor()\n",
    "        cols = \"`,`\".join([str(i) for i in Update.columns.tolist()])\n",
    "        for i,row in Update.iterrows():\n",
    "            sql = \"INSERT INTO `pfep` (`\" +cols + \"`) VALUES (\" + \"%s,\"*(len(row)-1) + \"%s)\"\n",
    "            cursor.execute(sql, tuple(row))\n",
    "            connection.commit()\n",
    "        connection.close()\n",
    "    return Update\n",
    "update_pfep(Update)\n",
    "\n",
    "print(\"Done\")"
   ]
  }
 ],
 "metadata": {
  "kernelspec": {
   "display_name": "Python 3 (ipykernel)",
   "language": "python",
   "name": "python3"
  },
  "language_info": {
   "codemirror_mode": {
    "name": "ipython",
    "version": 3
   },
   "file_extension": ".py",
   "mimetype": "text/x-python",
   "name": "python",
   "nbconvert_exporter": "python",
   "pygments_lexer": "ipython3",
   "version": "3.9.7"
  }
 },
 "nbformat": 4,
 "nbformat_minor": 5
}
