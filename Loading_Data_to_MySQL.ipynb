{
 "cells": [
  {
   "cell_type": "markdown",
   "id": "843c9396-c1f3-44e3-99b3-728416c77813",
   "metadata": {},
   "source": [
    "<h1><span style = \"color:red\">Loading data in MySQL</span></h1>\n",
    "<div class = \"alert alert-block alert-info\" style = \"margin-top:20-px\">\n",
    "    <span style=\"color:green\">Load data in MySQL via python (Pandas)</span>"
   ]
  },
  {
   "cell_type": "markdown",
   "id": "0e5da3bb-2a7a-4de2-b5dc-daa122c2e3e5",
   "metadata": {},
   "source": [
    "This scripts demonstrate how to load pandas Dataframe into MySQL database. "
   ]
  },
  {
   "cell_type": "code",
   "execution_count": null,
   "id": "26ee6baf-5f93-4acd-88be-25fd5bbe4f84",
   "metadata": {},
   "outputs": [],
   "source": [
    "df = pd.read_excel(\"PFEP.xlsx\")\n",
    "def load_pfep(df):\n",
    "    connection = mysql.connector.connect(host='localhost', user='root',password = '1234@1', database = 'dataflow')\n",
    "    cursor = connection.cursor()\n",
    "\n",
    "    sheet = df\n",
    "    sheet.fillna(0)\n",
    "    sheet = sheet.astype(object).where(pd.notnull(sheet), None)\n",
    "    \n",
    "    cols = \"`,`\".join([str(i) for i in sheet.columns.tolist()])\n",
    "\n",
    "    for i,row in sheet.iterrows():\n",
    "        sql = \"INSERT INTO `pfep` (`\" +cols + \"`) VALUES (\" + \"%s,\"*(len(row)-1) + \"%s)\"\n",
    "        cursor.execute(sql, tuple(row))\n",
    "        connection.commit()\n",
    "    connection.close()\n",
    "    print(\"File Uploaded\")\n",
    "    return"
   ]
  }
 ],
 "metadata": {
  "kernelspec": {
   "display_name": "Python 3 (ipykernel)",
   "language": "python",
   "name": "python3"
  },
  "language_info": {
   "codemirror_mode": {
    "name": "ipython",
    "version": 3
   },
   "file_extension": ".py",
   "mimetype": "text/x-python",
   "name": "python",
   "nbconvert_exporter": "python",
   "pygments_lexer": "ipython3",
   "version": "3.9.7"
  }
 },
 "nbformat": 4,
 "nbformat_minor": 5
}
