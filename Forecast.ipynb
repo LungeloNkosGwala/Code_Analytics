{
 "cells": [
  {
   "cell_type": "code",
   "execution_count": 53,
   "id": "46779057-e8ea-4bf6-9221-3dcaa6ddc361",
   "metadata": {},
   "outputs": [],
   "source": [
    "import pandas as pd\n",
    "pd.options.mode.chained_assignment = None\n",
    "\n",
    "def load_df():\n",
    "    df =  pd.read_excel(\"Local_Forecast.xlsx\", sheet_name = \"DEMAND\")\n",
    "    FC =  pd.read_excel(\"Local_Forecast.xlsx\", sheet_name = \"FORECAST\")\n",
    "    pareto = pd.read_excel(\"1. BusinessCategory.xlsx\", sheet_name = \"PARETO\")\n",
    "    return df,FC,pareto \n",
    "\n",
    "def calculate_avg(df):\n",
    "    df['6mAVG']= df.iloc[:,2:6].mean(axis=1)\n",
    "    df['3mAVG']= df.iloc[:,5:-1].mean(axis=1)\n",
    "    df[\"Max\"] = df[[\"6mAVG\", \"3mAVG\"]].max(axis=1)\n",
    "    Max = df[['ItemNumber','Max']]\n",
    "    Max['Max'] = Max['Max']/4\n",
    "    return Max\n",
    "\n",
    "def forecast(Max,FC):\n",
    "    for i in range(24):\n",
    "        i = str(i)\n",
    "        Max['F'+i.format(str(i))] = FC.loc[FC['Forecast_P']==\"GUD_LOCAL\"][\"F\"+i.format(str(i))].values*Max['Max']\n",
    "        \n",
    "    return Max\n",
    "\n",
    "def concat(Max,df,pareto):\n",
    "    Max = pd.merge(Max,df[['ItemNumber','Group']], on=\"ItemNumber\", how='left')\n",
    "    group = Max.drop(['ItemNumber','Max'], axis=1)\n",
    "    group = group[[group.columns[-1]] + list(group.columns[:-1])]\n",
    "    group1 = group.pivot_table(index='Group',aggfunc='sum')\n",
    "    group1 = group1.reset_index()\n",
    "    group1 = group1.reindex(columns=group.columns)\n",
    "    \n",
    "    Max = pd.merge(Max, pareto[[\"ItemNumber\",\"Sls Cd3\",\"Sls Cd4\",\"ABC 1 Sls\"]], on ='ItemNumber', how='left')\n",
    "    Max = Max.round(0)\n",
    "    group1 = group1.round(0)\n",
    "    return Max,group1\n",
    "    "
   ]
  },
  {
   "cell_type": "markdown",
   "id": "e6ce87c9-ffdd-4a63-921a-4a9cc896f50c",
   "metadata": {},
   "source": [
    "### 1. Load data"
   ]
  },
  {
   "cell_type": "code",
   "execution_count": 70,
   "id": "3f3c7df8-c1c5-42d0-b9c3-68b6a6ded612",
   "metadata": {},
   "outputs": [],
   "source": [
    "df, FC, pareto = load_df()"
   ]
  },
  {
   "cell_type": "markdown",
   "id": "8b84273f-edbe-4182-919d-4cdbb411933b",
   "metadata": {},
   "source": [
    "### 2. Calculate Avg"
   ]
  },
  {
   "cell_type": "code",
   "execution_count": 71,
   "id": "c6ac1206-da4d-428d-ad61-d9c5c8bfe73d",
   "metadata": {},
   "outputs": [],
   "source": [
    "Max = calculate_avg(df)"
   ]
  },
  {
   "cell_type": "markdown",
   "id": "b1ee799a-4901-429b-b720-0177e24823eb",
   "metadata": {},
   "source": [
    "### 3. Forecast"
   ]
  },
  {
   "cell_type": "code",
   "execution_count": 72,
   "id": "4358345e-74c7-4ed4-ab5d-1084a7f36eb8",
   "metadata": {},
   "outputs": [],
   "source": [
    "Max = forecast(Max,FC)"
   ]
  },
  {
   "cell_type": "markdown",
   "id": "c848a446-9004-40f9-a9f5-818234625c08",
   "metadata": {},
   "source": [
    "### 4. Concatenate"
   ]
  },
  {
   "cell_type": "code",
   "execution_count": 73,
   "id": "0ad9cbe0-8848-46e2-aa7b-fff9d2fc1f3d",
   "metadata": {},
   "outputs": [],
   "source": [
    "Max,group1 = concat(Max,df,pareto)"
   ]
  },
  {
   "cell_type": "code",
   "execution_count": 74,
   "id": "de5a251a-4811-42b2-8e76-a828991e729e",
   "metadata": {},
   "outputs": [],
   "source": [
    "Max.to_excel(\"df.xlsx\", index=False)\n",
    "group1.to_excel(\"group.xlsx\", index=False)"
   ]
  },
  {
   "cell_type": "code",
   "execution_count": 37,
   "id": "bfff386a-8757-4454-a61f-d5b864fdb688",
   "metadata": {},
   "outputs": [],
   "source": []
  },
  {
   "cell_type": "code",
   "execution_count": 64,
   "id": "42b3c137-b752-4851-82ee-11a93b734eca",
   "metadata": {},
   "outputs": [],
   "source": []
  },
  {
   "cell_type": "code",
   "execution_count": null,
   "id": "bf4f1125-46e4-484a-839a-45d61b4e7e7b",
   "metadata": {},
   "outputs": [],
   "source": []
  }
 ],
 "metadata": {
  "kernelspec": {
   "display_name": "Python 3 (ipykernel)",
   "language": "python",
   "name": "python3"
  },
  "language_info": {
   "codemirror_mode": {
    "name": "ipython",
    "version": 3
   },
   "file_extension": ".py",
   "mimetype": "text/x-python",
   "name": "python",
   "nbconvert_exporter": "python",
   "pygments_lexer": "ipython3",
   "version": "3.9.7"
  }
 },
 "nbformat": 4,
 "nbformat_minor": 5
}
