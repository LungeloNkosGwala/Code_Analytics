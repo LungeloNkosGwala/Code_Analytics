{
 "cells": [
  {
   "cell_type": "code",
   "execution_count": 1,
   "metadata": {},
   "outputs": [],
   "source": [
    "import pandas as pd"
   ]
  },
  {
   "cell_type": "code",
   "execution_count": 4,
   "metadata": {},
   "outputs": [],
   "source": [
    "df = pd.read_excel(\"Outbound_Activity - Copy.xlsx\")"
   ]
  },
  {
   "cell_type": "code",
   "execution_count": 6,
   "metadata": {},
   "outputs": [],
   "source": [
    "col = df.columns\n",
    "col = pd.DataFrame(col)\n",
    "\n",
    "#Create a List and than a DataFrame for all possible columns which are irrelevant\n",
    "remove_1 = [\"Total\",'Hour']\n",
    "remove_1 = pd.DataFrame(remove_1)\n",
    "\n",
    "#Extract irrelevant columns from Data source\n",
    "col_rem = col[col[0].isin(remove_1[0])]\n",
    "col_rem = list(col_rem[0])\n",
    "\n",
    "#Remove to irrelevant columns from the Data Source\n",
    "col = col[~col[0].isin(remove_1[0])]\n",
    "col = list(col[0])\n",
    "\n",
    "time = list(df.iloc[:,0])\n",
    "time = pd.DataFrame(time)\n",
    "time = time[~time[0].isin(remove_1[0])]\n",
    "time = list(time[0])\n",
    "col_Total = col*len(time)\n",
    "time_Total = time*len(col)\n",
    "time_Total.sort()\n",
    "\n",
    "\n",
    "df_1 = df.drop(columns = col_rem)\n",
    "df_1.drop(index = df_1.index[-1], axis = 0, inplace = True)\n",
    "lst = df_1.values.tolist()\n",
    "lst_1 = sum(lst, [])\n",
    "Summary = {\"Time\":time_Total,\"User\":col_Total,\"Value\":lst_1}\n",
    "Sumary = pd.DataFrame(Summary)\n",
    "if len(Sumary['Time'][-1:].astype(str).item()) == 16:\n",
    "    x = Sumary['Time'][-1:].astype(str).item()[11:13]\n",
    "    Sumary['Time'] = Sumary['Time'].str.slice(11,16)\n",
    "    Sumary.to_excel(\"Transposed_File_{}.xlsx\".format(x), index = None)\n",
    "else:\n",
    "    x = Sumary['Time'][-1:].astype(str).item()[0:2]\n",
    "    Sumary.to_excel(\"Transposed_File_{}.xlsx\".format(x), index = None)\n",
    "    "
   ]
  },
  {
   "cell_type": "code",
   "execution_count": 4,
   "metadata": {},
   "outputs": [
    {
     "data": {
      "text/plain": [
       "['PickHour', 'Total']"
      ]
     },
     "execution_count": 4,
     "metadata": {},
     "output_type": "execute_result"
    }
   ],
   "source": [
    "col_rem"
   ]
  },
  {
   "cell_type": "code",
   "execution_count": null,
   "metadata": {},
   "outputs": [],
   "source": []
  }
 ],
 "metadata": {
  "kernelspec": {
   "display_name": "Python 3 (ipykernel)",
   "language": "python",
   "name": "python3"
  },
  "language_info": {
   "codemirror_mode": {
    "name": "ipython",
    "version": 3
   },
   "file_extension": ".py",
   "mimetype": "text/x-python",
   "name": "python",
   "nbconvert_exporter": "python",
   "pygments_lexer": "ipython3",
   "version": "3.9.7"
  }
 },
 "nbformat": 4,
 "nbformat_minor": 4
}
